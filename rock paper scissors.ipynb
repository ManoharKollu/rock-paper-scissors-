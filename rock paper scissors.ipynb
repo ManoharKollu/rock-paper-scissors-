{
 "cells": [
  {
   "cell_type": "code",
   "execution_count": 1,
   "id": "576706a8",
   "metadata": {},
   "outputs": [
    {
     "name": "stdout",
     "output_type": "stream",
     "text": [
      "please enter your namek\n",
      "please enter your namem\n",
      "choose one from: rock, paper, scissorrock\n",
      "choose one from: rock, paper, scissorpaper\n",
      "mwins\n"
     ]
    }
   ],
   "source": [
    "m=input(\"please enter your name\")\n",
    "n=input(\"please enter your name\")\n",
    "play1=input(\"choose one from: rock, paper, scissor\")\n",
    "play2=input(\"choose one from: rock, paper, scissor\")\n",
    "if play1==\"rock\" and play2==\"paper\":\n",
    "    print(\"{}wins\".format(n))\n",
    "elif play1==\"rock\" and play2==\"scissor\":\n",
    "    print(\"{}wins\".format(m))\n",
    "elif play1==\"paper\" and play2==\"scissor\":\n",
    "    print(\"{}wins\".format(m))\n",
    "elif play1==\"paper\" and play2==\"paper\":\n",
    "    print(\"drow the game\")\n",
    "elif play1==\"rock\" and play2==\"rock\":\n",
    "    print(\"drow the game\") \n",
    "elif play1==\"scissor\" and play2==\"scissor\":\n",
    "    print(\"drow the game\")\n",
    "else:\n",
    "    print(\"you are not qualified\")"
   ]
  },
  {
   "cell_type": "code",
   "execution_count": null,
   "id": "ed3724b7",
   "metadata": {},
   "outputs": [],
   "source": []
  }
 ],
 "metadata": {
  "kernelspec": {
   "display_name": "Python 3 (ipykernel)",
   "language": "python",
   "name": "python3"
  },
  "language_info": {
   "codemirror_mode": {
    "name": "ipython",
    "version": 3
   },
   "file_extension": ".py",
   "mimetype": "text/x-python",
   "name": "python",
   "nbconvert_exporter": "python",
   "pygments_lexer": "ipython3",
   "version": "3.9.12"
  }
 },
 "nbformat": 4,
 "nbformat_minor": 5
}
